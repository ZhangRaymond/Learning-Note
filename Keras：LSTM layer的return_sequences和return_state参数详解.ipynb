{
 "cells": [
  {
   "cell_type": "code",
   "execution_count": 1,
   "metadata": {},
   "outputs": [
    {
     "name": "stderr",
     "output_type": "stream",
     "text": [
      "Using TensorFlow backend.\n"
     ]
    }
   ],
   "source": [
    "from keras.models import Model \n",
    "from keras.layers import Input,LSTM\n",
    "import numpy as np"
   ]
  },
  {
   "cell_type": "markdown",
   "metadata": {},
   "source": [
    "#### 参考:\n",
    " - [（原文）Understand the Difference Between Return Sequences and Return States for LSTMs in Keras](https://machinelearningmastery.com/return-sequences-and-return-states-for-lstms-in-keras/)\n",
    " - [（译文）理解LSTM在keras API中参数return_sequences和return_state](https://blog.csdn.net/u011327333/article/details/78501054)"
   ]
  },
  {
   "cell_type": "markdown",
   "metadata": {},
   "source": [
    "---\n",
    "### 1.return_sequences = False && return_state = False \n",
    "```python \n",
    "lstm = LSTM(1)\n",
    "```\n",
    "Keras API 中，return_sequences和return_state默认就是false。此时只会返回一个hidden state 值。如果input 数据包含多个时间步，则这个hidden state 是最后一个时间步的结果"
   ]
  },
  {
   "cell_type": "code",
   "execution_count": 2,
   "metadata": {},
   "outputs": [
    {
     "data": {
      "text/plain": [
       "array([[-0.13695435]], dtype=float32)"
      ]
     },
     "execution_count": 2,
     "metadata": {},
     "output_type": "execute_result"
    }
   ],
   "source": [
    "# define model\n",
    "inputs = Input(shape = (3,1))\n",
    "lstm = LSTM(1)(inputs)   # return_sequences = True & return_state = False\n",
    "model = Model(inputs = inputs,outputs = lstm)\n",
    "\n",
    "# define data and predict\n",
    "data = np.array([0.1,0.2,0.3]).reshape([1,3,1])\n",
    "output = model.predict(data)\n",
    "output"
   ]
  },
  {
   "cell_type": "markdown",
   "metadata": {},
   "source": [
    "---\n",
    "### 2.return_sequences=True && return_state=False \n",
    "``` python\n",
    "LSTM(1,return_sequences = True)```   \n",
    "输出所有时间步的hidden state。"
   ]
  },
  {
   "cell_type": "code",
   "execution_count": 3,
   "metadata": {},
   "outputs": [
    {
     "data": {
      "text/plain": [
       "array([[[-0.01409399],\n",
       "        [-0.03686725],\n",
       "        [-0.06507621]]], dtype=float32)"
      ]
     },
     "execution_count": 3,
     "metadata": {},
     "output_type": "execute_result"
    }
   ],
   "source": [
    "# define model\n",
    "inputs = Input(shape = (3,1))\n",
    "lstm = LSTM(1,return_sequences = True)(inputs)   # return_sequences = True & return_state = False\n",
    "model = Model(inputs = inputs,outputs = lstm)\n",
    "\n",
    "# define data and predict\n",
    "data = np.array([0.1,0.2,0.3]).reshape([1,3,1])\n",
    "state_hs = model.predict(data)\n",
    "state_hs"
   ]
  },
  {
   "cell_type": "markdown",
   "metadata": {},
   "source": [
    "---\n",
    "### 3.return_sequences=False && return_state=True\n",
    "```python \n",
    "lstm, state_h, state_c = LSTM(1,return_state = True)\n",
    "```\n",
    "lstm 和 state_h 结果都是 hidden state。在这种参数设定下，它们俩的值相同，都是最后一个时间步的 hidden state。 state_c 是最后一个时间步 cell state结果。"
   ]
  },
  {
   "cell_type": "code",
   "execution_count": 4,
   "metadata": {},
   "outputs": [
    {
     "data": {
      "text/plain": [
       "[array([[-0.01314915]], dtype=float32),\n",
       " array([[-0.01314915]], dtype=float32),\n",
       " array([[-0.02674036]], dtype=float32)]"
      ]
     },
     "execution_count": 4,
     "metadata": {},
     "output_type": "execute_result"
    }
   ],
   "source": [
    "# define model\n",
    "inputs = Input(shape = (3,1))\n",
    "lstm, state_h, state_c = LSTM(1,return_state = True)(inputs)   # return_sequences = False & return_state = Ture\n",
    "model = Model(inputs = inputs,outputs = [lstm, state_h, state_c])\n",
    "\n",
    "# define data and predict\n",
    "data = np.array([0.1,0.2,0.3]).reshape([1,3,1])\n",
    "outputs = model.predict(data)\n",
    "outputs"
   ]
  },
  {
   "cell_type": "markdown",
   "metadata": {},
   "source": [
    "---\n",
    "### 4.return_sequences=True && return_state=True\n",
    "```python \n",
    "lstm, state_h, state_c = LSTM(1,return_sequences = True, return_state = True)\n",
    "```\n",
    "此时，既输出全部时间步的 hidden state ，又输出 cell state：\n",
    "- lstm 存放的就是全部时间步的 hidden state。\n",
    "- state_h 存放的是最后一个时间步的 hidden state\n",
    "- state_c 存放的是最后一个时间步的 cell state"
   ]
  },
  {
   "cell_type": "code",
   "execution_count": 5,
   "metadata": {},
   "outputs": [
    {
     "data": {
      "text/plain": [
       "[array([[[0.02849635],\n",
       "         [0.08156213],\n",
       "         [0.15450114]]], dtype=float32),\n",
       " array([[0.15450114]], dtype=float32),\n",
       " array([[0.2794191]], dtype=float32)]"
      ]
     },
     "execution_count": 5,
     "metadata": {},
     "output_type": "execute_result"
    }
   ],
   "source": [
    "# define model\n",
    "inputs = Input(shape = (3,1))\n",
    "lstm, state_h, state_c = LSTM(1,return_sequences = True, return_state = True)(inputs)   # return_sequences = True & return_state = True\n",
    "model = Model(inputs = inputs,outputs = [lstm, state_h, state_c])\n",
    "\n",
    "# define data and predict\n",
    "data = np.array([0.1,0.2,0.3]).reshape([1,3,1])\n",
    "outputs = model.predict(data)\n",
    "outputs"
   ]
  },
  {
   "cell_type": "markdown",
   "metadata": {},
   "source": [
    "可以看到state_h 的值和lstm的最后一个时间步的值相同。"
   ]
  },
  {
   "cell_type": "markdown",
   "metadata": {},
   "source": [
    "---\n",
    "## 总结   \n",
    "```return sequences``` ：返回每个时间步的hidden state    \n",
    "`return state` ：返回最后一个时间步的hidden state 和cell state   \n",
    "`return sequences` 和 `return state` ：可同时使用，三者都输出   "
   ]
  },
  {
   "cell_type": "code",
   "execution_count": null,
   "metadata": {},
   "outputs": [],
   "source": []
  }
 ],
 "metadata": {
  "kernelspec": {
   "display_name": "Python 3",
   "language": "python",
   "name": "python3"
  },
  "language_info": {
   "codemirror_mode": {
    "name": "ipython",
    "version": 3
   },
   "file_extension": ".py",
   "mimetype": "text/x-python",
   "name": "python",
   "nbconvert_exporter": "python",
   "pygments_lexer": "ipython3",
   "version": "3.6.7"
  }
 },
 "nbformat": 4,
 "nbformat_minor": 2
}
